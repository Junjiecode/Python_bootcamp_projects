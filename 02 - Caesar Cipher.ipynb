{
 "cells": [
  {
   "attachments": {},
   "cell_type": "markdown",
   "metadata": {},
   "source": [
    "## 02 - Caesar Cipher\n",
    "\n",
    "---"
   ]
  },
  {
   "cell_type": "markdown",
   "metadata": {},
   "source": [
    "The Caesar Cipher is a very simple encryption method that replaces each letter in a text by another letter which is specified by a given shift in the alphabet. The shift determines how many letters in the alphabet one should go ahead to find the replacement.\n",
    "\n",
    "Example:\n",
    "\n",
    "- The letter ”a” with shift 1 results in the letter ”b”.\n",
    "- The letter ”c” with shift 2 results in the letter ”e”.\n",
    "\n",
    "Negative shifting is also possible: \n",
    "\n",
    "- The letter ”f” with shift -1 results in the letter ”e”.\n",
    "\n",
    "When a letter would ”drop off” one end of the alphabet, we just start at the other end:\n",
    "\n",
    "- The letter ”z” with shift 1 results in the letter ”a”. \n",
    "- The letter ”a” with shift -3 results in the letter ”x”"
   ]
  },
  {
   "cell_type": "markdown",
   "metadata": {},
   "source": [
    "__The Task__\n",
    "\n",
    "After years of work for the secret society of secrets, you have finally got your hands on a secret message from the evil league of evil and want to decrypt it. Due to your extensive study of the evil league of evil, you already know that they always encrypt their messages using the Caesar Cipher. As your time is too valuable to just try out every single possible shift. \n",
    "\n",
    "You remember that some letters are more common than others in the English language, e.g. the letter ”e” is the most common one. Using this knowledge you want to analyze the secret message and figure out the key.\n",
    "\n",
    "In order to do so, follow these steps:\n",
    "\n",
    "1. Go through the given, encrypted string and count how often each letter appears. Save the result in an an appropriate data structure.\n",
    "\n",
    "2. Find the most common letter in the secret message, knowing that ”e” is the most common letter in the English language, calculate the shift that was used to encrypt the message.\n",
    "\n",
    "Hint: You can use python's `set` and `dict`."
   ]
  },
  {
   "cell_type": "code",
   "execution_count": 4,
   "metadata": {},
   "outputs": [],
   "source": [
    "secret_message = \"\"\"Pm fvb nla tf tlzzhnl, Fvb ullk av ruvd aol Ltsfvu Wfaovu IvvaJhtw pz leayltlsf hthgpun!\"\"\".lower()"
   ]
  },
  {
   "cell_type": "code",
   "execution_count": 2,
   "metadata": {},
   "outputs": [
    {
     "name": "stdout",
     "output_type": "stream",
     "text": [
      "pm fvb nla tf tlzzhnl, fvb ullk av ruvd aol ltsfvu wfaovu ivvajhtw pz leayltlsf hthgpun!\n"
     ]
    }
   ],
   "source": [
    "print(secret_message)"
   ]
  },
  {
   "cell_type": "code",
   "execution_count": 5,
   "metadata": {},
   "outputs": [
    {
     "name": "stdout",
     "output_type": "stream",
     "text": [
      "The most frequent character: l\n"
     ]
    }
   ],
   "source": [
    "# your code\n",
    "ch_dic = {}\n",
    "\n",
    "for ch in secret_message:\n",
    "    if ch in ch_dic.keys():     \n",
    "        ch_dic[ch] = ch_dic[ch] + 1\n",
    "    else:\n",
    "        ch_dic[ch] = 1\n",
    "del ch_dic [\" \"]\n",
    "\n",
    "ch_maxrep = \"\"\n",
    "maxvalue_rep = 0\n",
    "\n",
    "for c in ch_dic:\n",
    "    if ch_dic[c] > maxvalue_rep:\n",
    "        maxvalue_rep = ch_dic[c]\n",
    "        ch_maxrep = c\n",
    "\n",
    "print(\"The most frequent character:\", ch_maxrep)"
   ]
  },
  {
   "cell_type": "code",
   "execution_count": 22,
   "metadata": {},
   "outputs": [
    {
     "name": "stdout",
     "output_type": "stream",
     "text": [
      "7\n"
     ]
    }
   ],
   "source": [
    "shift = ord(\"l\") - ord(\"e\")\n",
    "print(shift)"
   ]
  },
  {
   "cell_type": "markdown",
   "metadata": {},
   "source": [
    "3. Decrypt the message: After you figure out the shift, you are now ready to write a program that will decrypt your secret message, based on the shift that was used."
   ]
  },
  {
   "cell_type": "code",
   "execution_count": 40,
   "metadata": {},
   "outputs": [
    {
     "name": "stdout",
     "output_type": "stream",
     "text": [
      "if you get my message, you need to know the emlyon python bootcamp is extremely amazing!\n"
     ]
    }
   ],
   "source": [
    "# your code\n",
    "\n",
    "decripted_message = \"\"\n",
    "\n",
    "for ch in secret_message:\n",
    "    if (ord(ch) >= 97 + shift) and (ord(ch) <= 122):\n",
    "        ch_1 = chr( ord(ch) - shift )\n",
    "        decripted_message = decripted_message + ch_1\n",
    "    elif (ord(ch) >= 97) and (ord(ch) <= 97 + shift):\n",
    "        ch_1 = chr( ord(ch) + 26 - shift )\n",
    "        decripted_message = decripted_message + ch_1\n",
    "    else:\n",
    "        decripted_message = decripted_message + ch\n",
    "\n",
    "print(decripted_message)\n",
    "\n"
   ]
  },
  {
   "cell_type": "markdown",
   "metadata": {},
   "source": [
    "__Hint:__ You will need the functions `ord` and `chr`. Remember, unicode numbers are from 97 to 122."
   ]
  },
  {
   "cell_type": "markdown",
   "metadata": {},
   "source": [
    "---"
   ]
  },
  {
   "cell_type": "markdown",
   "metadata": {},
   "source": [
    "Draft below (doesn't matter)"
   ]
  },
  {
   "cell_type": "code",
   "execution_count": 35,
   "metadata": {},
   "outputs": [
    {
     "name": "stdout",
     "output_type": "stream",
     "text": [
      "pm fvb nla tf tlzzhnl, fvb ullk av ruvd aol ltsfvu wfaovu ivvajhtw pz leayltlsf hthgpun!\n"
     ]
    }
   ],
   "source": [
    "print(secret_message)"
   ]
  },
  {
   "cell_type": "code",
   "execution_count": 29,
   "metadata": {
    "scrolled": true
   },
   "outputs": [
    {
     "data": {
      "text/plain": [
       "'_'"
      ]
     },
     "execution_count": 29,
     "metadata": {},
     "output_type": "execute_result"
    }
   ],
   "source": [
    "chr( ord(\"f\") - shift )\n"
   ]
  },
  {
   "cell_type": "code",
   "execution_count": 21,
   "metadata": {},
   "outputs": [
    {
     "data": {
      "text/plain": [
       "97"
      ]
     },
     "execution_count": 21,
     "metadata": {},
     "output_type": "execute_result"
    }
   ],
   "source": [
    "ord(\"a\")"
   ]
  }
 ],
 "metadata": {
  "kernelspec": {
   "display_name": "Python 3",
   "language": "python",
   "name": "python3"
  },
  "language_info": {
   "codemirror_mode": {
    "name": "ipython",
    "version": 3
   },
   "file_extension": ".py",
   "mimetype": "text/x-python",
   "name": "python",
   "nbconvert_exporter": "python",
   "pygments_lexer": "ipython3",
   "version": "3.10.8"
  },
  "vscode": {
   "interpreter": {
    "hash": "28db336dc82b4903d9b84ec8bd9856233389ba93023e0f7573b9526c3316f3df"
   }
  }
 },
 "nbformat": 4,
 "nbformat_minor": 2
}
