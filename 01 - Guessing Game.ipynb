{
 "cells": [
  {
   "attachments": {},
   "cell_type": "markdown",
   "metadata": {},
   "source": [
    "## 01 - Guessing Game\n",
    "\n",
    "---"
   ]
  },
  {
   "cell_type": "markdown",
   "metadata": {},
   "source": [
    "Use random number generation to program a little game:\n",
    "\n",
    "The computer thinks of a random number between 1 and 100. It then prompts the user to guess what the number is. If the user is wrong, the computer prints whether the secret number is greater or smaller than the guessed one. The user may then guess again. If the user is finally right, the computer prints the user’s score (number of tries it took).\n",
    "\n",
    "Example Output:\n",
    "\n",
    "<pre>\n",
    "Ok, I have thought of a number. First guess: <b>10</b> \n",
    "My number is smaller than that. Next guess: <b>5</b> \n",
    "My number is larger than that. Next guess: <b>7</b> \n",
    "Correct! It took you 3 guesses.\n",
    "</pre>"
   ]
  },
  {
   "cell_type": "code",
   "execution_count": 13,
   "metadata": {},
   "outputs": [
    {
     "name": "stdout",
     "output_type": "stream",
     "text": [
      "I have thought of a number. First:  13\n",
      "My number is greater than that. Next guess: 25\n",
      "My number is greater than that. Next guess: 56\n",
      "My number is smaller than that. Next guess: 45\n",
      "My number is smaller than that. Next guess: 40\n",
      "Correct! It took you 5 guesses.\n"
     ]
    }
   ],
   "source": [
    "# your code\n",
    "from random import randint\n",
    "my_number = randint(1, 100)\n",
    "guess_number = int(input(\"I have thought of a number. First: \"))\n",
    "print(\"I have thought of a number. First: \",guess_number)\n",
    "n = 1\n",
    "for i in range(1000):\n",
    "    if my_number != guess_number:\n",
    "        n = n + 1\n",
    "        if my_number > guess_number:\n",
    "            guess_number = int(input(\"Next guess:\"))\n",
    "            print(\"My number is greater than that. Next guess:\",guess_number)\n",
    "        else:\n",
    "            guess_number = int(input(\"Next guess:\"))\n",
    "            print(\"My number is smaller than that. Next guess:\",guess_number)\n",
    "    else:\n",
    "        print(\"Correct! It took you\", n , \"guesses.\")\n",
    "        break\n"
   ]
  },
  {
   "cell_type": "markdown",
   "metadata": {},
   "source": [
    "---"
   ]
  },
  {
   "cell_type": "code",
   "execution_count": 3,
   "metadata": {},
   "outputs": [
    {
     "name": "stdout",
     "output_type": "stream",
     "text": [
      "62\n",
      "My number is greater than that. Next guess: \n",
      "34\n",
      "My number is greater than that. Next guess: \n",
      "45\n",
      "My number is greater than that. Next guess: \n",
      "62\n",
      "Correct! It took you 4 guesses.\n"
     ]
    }
   ],
   "source": [
    "# correction\n",
    "from random import randint\n",
    "my_number_1 = randint(1, 100)\n",
    "print(my_number_1)\n",
    "guess = input(\"I have thought of a number. First: \")\n",
    "\n",
    "i = 0\n",
    "while(guess != None):\n",
    "    i += 1\n",
    "    if int(guess) == my_number_1:\n",
    "        print(f\"Correct! It took you {i} guesses.\")\n",
    "        break\n",
    "    elif int(guess) < my_number_1:\n",
    "        guess = input(\"My number is greater than that. Next guess: \")\n",
    "        print(\"My number is greater than that. Next guess: \")\n",
    "        print(guess)\n",
    "        continue    #  continue\n",
    "    elif int(guess) > my_number_1:                                     # elif ---  don't have to write \"else\"\n",
    "        guess = input(\"My number is smaller than that. Next guess: \")\n",
    "        print(\"My number is smaller than that. Next guess: \")\n",
    "        print(guess)\n",
    "        continue \n",
    "   \n"
   ]
  }
 ],
 "metadata": {
  "kernelspec": {
   "display_name": "base",
   "language": "python",
   "name": "python3"
  },
  "language_info": {
   "codemirror_mode": {
    "name": "ipython",
    "version": 3
   },
   "file_extension": ".py",
   "mimetype": "text/x-python",
   "name": "python",
   "nbconvert_exporter": "python",
   "pygments_lexer": "ipython3",
   "version": "3.9.12"
  },
  "vscode": {
   "interpreter": {
    "hash": "8d4e63f1bd948baef4bc278445c31d443b4c6d00105819e06ca43613e036dceb"
   }
  }
 },
 "nbformat": 4,
 "nbformat_minor": 2
}
