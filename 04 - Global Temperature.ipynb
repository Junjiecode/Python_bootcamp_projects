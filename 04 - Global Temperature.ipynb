{
 "cells": [
  {
   "attachments": {},
   "cell_type": "markdown",
   "metadata": {},
   "source": [
    "## 04 - Global Temperature\n",
    "\n",
    "---"
   ]
  },
  {
   "cell_type": "markdown",
   "metadata": {
    "scrolled": true
   },
   "source": [
    "Let us implement a simplified formula for the increase in global temperature levels due to the radiative forcing of CO2 level changes."
   ]
  },
  {
   "cell_type": "markdown",
   "metadata": {},
   "source": [
    "Radiative forcing due to change in CO2 level: $ \\Delta F = \\alpha * ln(\\frac{c_1}{c_0}) $\n",
    "\n",
    "Relation between radiative forcing and temperature: $ \\lambda = \\frac{\\Delta T}{\\Delta F} $\n",
    "\n",
    "$\\alpha$ is fixed at $5.35$ while $\\lambda$ differs from model to model - we will simply use $0.5$.\n",
    "\n",
    "$c_1$ denotes the changed CO2 level, $c_0$ denotes the unchanged CO2 level.\n",
    "\n",
    "Let’s take the CO2 level of January 1970 as the unchanged CO2 level, so $c_0 = 325.03$.\n",
    "\n",
    "Current levels of CO2 were at $c_1 = 411.97$ as of March 2019. We will just assume that the CO2 level has not changed significantly since then for the purposes of our calculations.\n",
    "\n",
    "This would result in a $0.63 K$ increase in global temperature since 1970, which is consistent with the actual change in global temperature, especially considering that there are also other influences on the global climate such as other greenhouse gases."
   ]
  },
  {
   "cell_type": "markdown",
   "metadata": {},
   "source": [
    "__Your Task__\n",
    "\n",
    "1. Calculate how many hours have passed since January 1st 1970 00:00:00.\n",
    "2. Use this time difference to calculate the average CO2 increase per hour since 1970.\n",
    "3. Use this CO2 increase per hour to calculate a projection of what the CO2 level could be in 2100 (assuming that the CO2 increase per hour stays constant).\n",
    "4. Calculate the increase in temperature in from 1970 to 2100 (use your projected CO2 level as $c_1$ and the value from 1970 as $c_0$).\n",
    "5. Now generalize steps 3. and 4. by writing a function \"predict_increase\" that takes an int year larger than 1970 as an input and returns the increase in temperature from 1970 to year."
   ]
  },
  {
   "cell_type": "markdown",
   "metadata": {},
   "source": [
    "Hint: A year has on average 365.25 days.<br/>\n",
    "Hint: You can use `time` or `datetime` modules."
   ]
  },
  {
   "cell_type": "code",
   "execution_count": 23,
   "metadata": {},
   "outputs": [
    {
     "name": "stdout",
     "output_type": "stream",
     "text": [
      "1. Since January 1st 1970 00:00:00, it has passed 463000.0 hours.\n",
      "2. The average CO2 increased per hour is: 0.00018777537796976253. \n",
      "3. In 2100, the CO2 level could be 539.0126241468683.\n",
      "4. From 1970 to 2100, temperature has increased 1.35307252934054.\n"
     ]
    }
   ],
   "source": [
    "# your code\n",
    "c0 = 325.03\n",
    "c1 = 411.97\n",
    "import datetime\n",
    "from sympy import ln \n",
    "\n",
    "hour_passed = ( datetime.datetime.now() - datetime.datetime(1970,1,1,0,0,0) ).total_seconds() // 3600\n",
    "print(f\"1. Since January 1st 1970 00:00:00, it has passed {hour_passed} hours.\")\n",
    "\n",
    "aver_incr_co2 = ( c1 - c0 ) / hour_passed\n",
    "print(F\"2. The average CO2 increased per hour is: {aver_incr_co2}. \")\n",
    "\n",
    "hour_passed_2 = ( datetime.datetime(2100,1,1,0,0,0) - datetime.datetime.now() ).total_seconds() // 3600\n",
    "c2 = hour_passed_2 * aver_incr_co2 + c1\n",
    "print(f\"3. In 2100, the CO2 level could be {c2}.\")\n",
    "\n",
    "incr_tem = 0.5 * 5.35 * ln(c2/c0)\n",
    "print(f\"4. From 1970 to 2100, temperature has increased {incr_tem}.\")"
   ]
  },
  {
   "cell_type": "code",
   "execution_count": 34,
   "metadata": {},
   "outputs": [
    {
     "name": "stdout",
     "output_type": "stream",
     "text": [
      "input year error\n",
      "input year error\n",
      "From 1970 to 2024, temperature has increased 0.646653079647592.\n"
     ]
    }
   ],
   "source": [
    "def predict_increase(int_year):\n",
    "    if int_year >=1970 and type(int_year) == int:\n",
    "        hour_passed_2 = ( datetime.datetime(int_year,1,1,0,0,0) - datetime.datetime.now() ).total_seconds() // 3600\n",
    "        c2 = hour_passed_2 * aver_incr_co2 + c1\n",
    "        incr_tem = 0.5 * 5.35 * ln(c2/c0)\n",
    "        print(f\"From 1970 to {int_year}, temperature has increased {incr_tem}.\")\n",
    "    else:\n",
    "        print(\"input year error\")\n",
    "\n",
    "\n",
    "predict_increase(1967)\n",
    "predict_increase(2022.4)\n",
    "predict_increase(2024)\n"
   ]
  },
  {
   "cell_type": "markdown",
   "metadata": {},
   "source": [
    "---"
   ]
  },
  {
   "cell_type": "code",
   "execution_count": null,
   "metadata": {},
   "outputs": [],
   "source": []
  }
 ],
 "metadata": {
  "kernelspec": {
   "display_name": "base",
   "language": "python",
   "name": "python3"
  },
  "language_info": {
   "codemirror_mode": {
    "name": "ipython",
    "version": 3
   },
   "file_extension": ".py",
   "mimetype": "text/x-python",
   "name": "python",
   "nbconvert_exporter": "python",
   "pygments_lexer": "ipython3",
   "version": "3.9.12 (main, Apr  4 2022, 05:22:27) [MSC v.1916 64 bit (AMD64)]"
  },
  "vscode": {
   "interpreter": {
    "hash": "8d4e63f1bd948baef4bc278445c31d443b4c6d00105819e06ca43613e036dceb"
   }
  }
 },
 "nbformat": 4,
 "nbformat_minor": 2
}
